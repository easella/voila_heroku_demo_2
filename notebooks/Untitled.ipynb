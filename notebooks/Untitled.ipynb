{
 "cells": [
  {
   "cell_type": "code",
   "execution_count": 8,
   "id": "000c0520",
   "metadata": {},
   "outputs": [
    {
     "ename": "ImportError",
     "evalue": "Unable to import required dependencies:\nnumpy: \n\nIMPORTANT: PLEASE READ THIS FOR ADVICE ON HOW TO SOLVE THIS ISSUE!\n\nImporting the numpy C-extensions failed. This error can happen for\nmany reasons, often due to issues with your setup or how NumPy was\ninstalled.\n\nWe have compiled some common reasons and troubleshooting tips at:\n\n    https://numpy.org/devdocs/user/troubleshooting-importerror.html\n\nPlease note and check the following:\n\n  * The Python version is: Python3.9 from \"/nix/store/vxmxx2kl3wgc96xy95ngbmbki20m8z6y-python3-3.9.6-env/bin/python3.9\"\n  * The NumPy version is: \"1.22.3\"\n\nand make sure that they are the versions you expect.\nPlease carefully study the documentation linked above for further help.\n\nOriginal error was: No module named 'numpy.core._multiarray_umath'\n",
     "output_type": "error",
     "traceback": [
      "\u001b[0;31m---------------------------------------------------------------------------\u001b[0m",
      "\u001b[0;31mImportError\u001b[0m                               Traceback (most recent call last)",
      "Input \u001b[0;32mIn [8]\u001b[0m, in \u001b[0;36m<cell line: 1>\u001b[0;34m()\u001b[0m\n\u001b[0;32m----> 1\u001b[0m \u001b[38;5;28;01mimport\u001b[39;00m \u001b[38;5;21;01mnflfastpy\u001b[39;00m \u001b[38;5;28;01mas\u001b[39;00m \u001b[38;5;21;01mnfl\u001b[39;00m\n\u001b[1;32m      2\u001b[0m \u001b[38;5;28;01mimport\u001b[39;00m \u001b[38;5;21;01mpandas\u001b[39;00m \u001b[38;5;28;01mas\u001b[39;00m \u001b[38;5;21;01mpd\u001b[39;00m\n\u001b[1;32m      3\u001b[0m \u001b[38;5;28;01mfrom\u001b[39;00m \u001b[38;5;21;01mmatplotlib\u001b[39;00m \u001b[38;5;28;01mimport\u001b[39;00m pyplot \u001b[38;5;28;01mas\u001b[39;00m plt\n",
      "File \u001b[0;32m~/FrontLavenderWordprocessor/venv/lib/python3.8/site-packages/nflfastpy/__init__.py:1\u001b[0m, in \u001b[0;36m<module>\u001b[0;34m\u001b[0m\n\u001b[0;32m----> 1\u001b[0m \u001b[38;5;28;01mimport\u001b[39;00m \u001b[38;5;21;01mpandas\u001b[39;00m \u001b[38;5;28;01mas\u001b[39;00m \u001b[38;5;21;01mpd\u001b[39;00m\n\u001b[1;32m      2\u001b[0m \u001b[38;5;28;01mfrom\u001b[39;00m \u001b[38;5;21;01mnflfastpy\u001b[39;00m\u001b[38;5;21;01m.\u001b[39;00m\u001b[38;5;21;01mconfig\u001b[39;00m \u001b[38;5;28;01mimport\u001b[39;00m BASE_URL, ROSTER_URL, TEAM_LOGO_URL, SCHEDULE_URL, DEPTH_CHART_URL, INJURY_URL\n\u001b[1;32m      3\u001b[0m \u001b[38;5;28;01mfrom\u001b[39;00m \u001b[38;5;21;01mnflfastpy\u001b[39;00m\u001b[38;5;21;01m.\u001b[39;00m\u001b[38;5;21;01merrors\u001b[39;00m \u001b[38;5;28;01mimport\u001b[39;00m SeasonNotFoundError\n",
      "File \u001b[0;32m~/FrontLavenderWordprocessor/venv/lib/python3.8/site-packages/pandas/__init__.py:16\u001b[0m, in \u001b[0;36m<module>\u001b[0;34m\u001b[0m\n\u001b[1;32m     13\u001b[0m         missing_dependencies\u001b[38;5;241m.\u001b[39mappend(\u001b[38;5;124mf\u001b[39m\u001b[38;5;124m\"\u001b[39m\u001b[38;5;132;01m{\u001b[39;00mdependency\u001b[38;5;132;01m}\u001b[39;00m\u001b[38;5;124m: \u001b[39m\u001b[38;5;132;01m{\u001b[39;00me\u001b[38;5;132;01m}\u001b[39;00m\u001b[38;5;124m\"\u001b[39m)\n\u001b[1;32m     15\u001b[0m \u001b[38;5;28;01mif\u001b[39;00m missing_dependencies:\n\u001b[0;32m---> 16\u001b[0m     \u001b[38;5;28;01mraise\u001b[39;00m \u001b[38;5;167;01mImportError\u001b[39;00m(\n\u001b[1;32m     17\u001b[0m         \u001b[38;5;124m\"\u001b[39m\u001b[38;5;124mUnable to import required dependencies:\u001b[39m\u001b[38;5;130;01m\\n\u001b[39;00m\u001b[38;5;124m\"\u001b[39m \u001b[38;5;241m+\u001b[39m \u001b[38;5;124m\"\u001b[39m\u001b[38;5;130;01m\\n\u001b[39;00m\u001b[38;5;124m\"\u001b[39m\u001b[38;5;241m.\u001b[39mjoin(missing_dependencies)\n\u001b[1;32m     18\u001b[0m     )\n\u001b[1;32m     19\u001b[0m \u001b[38;5;28;01mdel\u001b[39;00m hard_dependencies, dependency, missing_dependencies\n\u001b[1;32m     21\u001b[0m \u001b[38;5;66;03m# numpy compat\u001b[39;00m\n",
      "\u001b[0;31mImportError\u001b[0m: Unable to import required dependencies:\nnumpy: \n\nIMPORTANT: PLEASE READ THIS FOR ADVICE ON HOW TO SOLVE THIS ISSUE!\n\nImporting the numpy C-extensions failed. This error can happen for\nmany reasons, often due to issues with your setup or how NumPy was\ninstalled.\n\nWe have compiled some common reasons and troubleshooting tips at:\n\n    https://numpy.org/devdocs/user/troubleshooting-importerror.html\n\nPlease note and check the following:\n\n  * The Python version is: Python3.9 from \"/nix/store/vxmxx2kl3wgc96xy95ngbmbki20m8z6y-python3-3.9.6-env/bin/python3.9\"\n  * The NumPy version is: \"1.22.3\"\n\nand make sure that they are the versions you expect.\nPlease carefully study the documentation linked above for further help.\n\nOriginal error was: No module named 'numpy.core._multiarray_umath'\n"
     ]
    }
   ],
   "source": [
    "\n",
    "import nflfastpy as nfl\n",
    "import pandas as pd\n",
    "from matplotlib import pyplot as plt\n",
    "import matplotlib.ticker as plticker\n",
    "import numpy as np\n",
    "\n",
    "from sklearn.model_selection import cross_val_score\n",
    "from sklearn.linear_model import LogisticRegression\n",
    "\n",
    "plt.style.use('seaborn-talk')\n",
    "plt.style.use('ggplot')\n",
    "\n",
    "pd.set_option('display.max_columns', 7)"
   ]
  },
  {
   "cell_type": "code",
   "execution_count": null,
   "id": "3e810e7d",
   "metadata": {},
   "outputs": [],
   "source": [
    "data = pd.concat([nfl.load_pbp_data(season).assign(season=season) for season in range(1999, 2021)])"
   ]
  },
  {
   "cell_type": "code",
   "execution_count": null,
   "id": "c5a62080",
   "metadata": {},
   "outputs": [],
   "source": [
    "def dynamic_window_ewma(x):\n",
    "    \"\"\"\n",
    "    Calculate rolling exponentially weighted EPA with a dynamic window size\n",
    "    \"\"\"\n",
    "    values = np.zeros(len(x))\n",
    "    for i, (_, row) in enumerate(x.iterrows()):\n",
    "        epa = x.epa_shifted[:i+1]\n",
    "        if row.week > 10:\n",
    "            values[i] = epa.ewm(min_periods=1, span=row.week).mean().values[-1]\n",
    "        else:\n",
    "            values[i] = epa.ewm(min_periods=1, span=10).mean().values[-1]\n",
    "            \n",
    "    return pd.Series(values, index=x.index)\n",
    "\n",
    "# seperate EPA in to rushing offense, rushing defense, passing offense, passing defense for each team\n",
    "rushing_offense_epa = data.loc[data['rush_attempt'] == 1, :]\\\n",
    ".groupby(['posteam', 'season', 'week'], as_index=False)['epa'].mean()\n",
    "\n",
    "rushing_defense_epa = data.loc[data['rush_attempt'] == 1, :]\\\n",
    ".groupby(['defteam', 'season', 'week'], as_index=False)['epa'].mean()\n",
    "\n",
    "passing_offense_epa = data.loc[data['pass_attempt'] == 1, :]\\\n",
    ".groupby(['posteam', 'season', 'week'], as_index=False)['epa'].mean()\n",
    "\n",
    "passing_defense_epa = data.loc[data['pass_attempt'] == 1, :]\\\n",
    ".groupby(['defteam', 'season', 'week'], as_index=False)['epa'].mean()\n",
    "\n",
    "# lag EPA one period back\n",
    "rushing_offense_epa['epa_shifted'] = rushing_offense_epa.groupby('posteam')['epa'].shift()\n",
    "rushing_defense_epa['epa_shifted'] = rushing_defense_epa.groupby('defteam')['epa'].shift()\n",
    "passing_offense_epa['epa_shifted'] = passing_offense_epa.groupby('posteam')['epa'].shift()\n",
    "passing_defense_epa['epa_shifted'] = passing_defense_epa.groupby('defteam')['epa'].shift()\n",
    "\n",
    "# In each case, calculate EWMA with a static window and dynamic window and assign it as a column \n",
    "rushing_offense_epa['ewma'] = rushing_offense_epa.groupby('posteam')['epa_shifted']\\\n",
    ".transform(lambda x: x.ewm(min_periods=1, span=10).mean())\n",
    "\n",
    "rushing_offense_epa['ewma_dynamic_window'] = rushing_offense_epa.groupby('posteam')\\\n",
    ".apply(dynamic_window_ewma).values\n",
    "\n",
    "rushing_defense_epa['ewma'] = rushing_defense_epa.groupby('defteam')['epa_shifted']\\\n",
    ".transform(lambda x: x.ewm(min_periods=1, span=10).mean())\n",
    "\n",
    "rushing_defense_epa['ewma_dynamic_window'] = rushing_defense_epa.groupby('defteam')\\\n",
    ".apply(dynamic_window_ewma).values\n",
    "\n",
    "passing_offense_epa['ewma'] = passing_offense_epa.groupby('posteam')['epa_shifted']\\\n",
    ".transform(lambda x: x.ewm(min_periods=1, span=10).mean())\n",
    "\n",
    "passing_offense_epa['ewma_dynamic_window'] = passing_offense_epa.groupby('posteam')\\\n",
    ".apply(dynamic_window_ewma).values\n",
    "\n",
    "passing_defense_epa['ewma'] = passing_defense_epa.groupby('defteam')['epa_shifted']\\\n",
    ".transform(lambda x: x.ewm(min_periods=1, span=10).mean())\n",
    "\n",
    "passing_defense_epa['ewma_dynamic_window'] = passing_defense_epa.groupby('defteam')\\\n",
    ".apply(dynamic_window_ewma).values\n",
    "\n",
    "#Merge all the data together\n",
    "offense_epa = rushing_offense_epa.merge(passing_offense_epa, on=['posteam', 'season', 'week'], suffixes=('_rushing', '_passing'))\\\n",
    ".rename(columns={'posteam': 'team'})\n",
    "defense_epa = rushing_defense_epa.merge(passing_defense_epa, on=['defteam', 'season', 'week'], suffixes=('_rushing', '_passing'))\\\n",
    ".rename(columns={'defteam': 'team'})\n",
    "epa = offense_epa.merge(defense_epa, on=['team', 'season', 'week'], suffixes=('_offense', '_defense'))\n",
    "\n",
    "#remove the first season of data\n",
    "epa = epa.loc[epa['season'] != epa['season'].unique()[0], :]\n",
    "\n",
    "epa = epa.reset_index(drop=True)\n",
    "\n",
    "epa.head()"
   ]
  },
  {
   "cell_type": "code",
   "execution_count": null,
   "id": "9f05ff44",
   "metadata": {},
   "outputs": [],
   "source": [
    "tm = epa.loc[epa['team'] == 'GB', :].assign(\n",
    "    season_week = lambda x: 'w' + x.week.astype(str) + ' (' + x.season.astype(str) + ')'\n",
    ").set_index('season_week')\n",
    "\n",
    "fig, ax = plt.subplots()\n",
    "\n",
    "loc = plticker.MultipleLocator(base=16) # this locator puts ticks at regular intervals\n",
    "ax.xaxis.set_major_locator(loc)\n",
    "ax.tick_params(axis='x', rotation=75) #rotate the x-axis labels a bit\n",
    "\n",
    "ax.plot(tm['epa_shifted_passing_offense'], lw=1, alpha=0.5)\n",
    "ax.plot(tm['ewma_dynamic_window_passing_offense'], lw=2)\n",
    "ax.plot(tm['ewma_passing_offense'], lw=2);\n",
    "plt.axhline(y=0, color='red', lw=1.5, alpha=0.5)\n",
    "\n",
    "ax.legend(['Passing EPA', 'EWMA on EPA with dynamic window', 'Static 10 EWMA on EPA'])\n",
    "ax.set_title('GB Passing EPA per play')\n",
    "plt.show();\n"
   ]
  },
  {
   "cell_type": "code",
   "execution_count": null,
   "id": "81a8189e",
   "metadata": {},
   "outputs": [],
   "source": [
    "schedule = data[['season', 'week', 'home_team', 'away_team', 'home_score', 'away_score']]\\\n",
    ".drop_duplicates().reset_index(drop=True)\\\n",
    ".assign(home_team_win = lambda x: (x.home_score > x.away_score).astype(int))\n",
    "\n",
    "df = schedule.merge(epa.rename(columns={'team': 'home_team'}), on=['home_team', 'season', 'week'])\\\n",
    ".merge(epa.rename(columns={'team': 'away_team'}), on=['away_team', 'season', 'week'], suffixes=('_home', '_away'))\n",
    "\n",
    "df.head()"
   ]
  },
  {
   "cell_type": "code",
   "execution_count": null,
   "id": "2c9c50b4",
   "metadata": {},
   "outputs": [],
   "source": [
    "target = 'home_team_win'\n",
    "features = [column for column in df.columns if 'ewma' in column and 'dynamic' in column]\n",
    "for feature in features:\n",
    "  print(feature)"
   ]
  },
  {
   "cell_type": "code",
   "execution_count": null,
   "id": "25fdcb69",
   "metadata": {},
   "outputs": [],
   "source": [
    "df = df.dropna()\n",
    "\n",
    "X = df.loc[df['season'] != 2020, features].values\n",
    "y = df.loc[df['season'] != 2020, target].values\n",
    "\n",
    "clf = LogisticRegression()\n",
    "clf.fit(X, y)"
   ]
  },
  {
   "cell_type": "code",
   "execution_count": null,
   "id": "5910ffd7",
   "metadata": {},
   "outputs": [],
   "source": [
    "accuracy_scores = cross_val_score(clf, X, y, cv=10)\n",
    "log_losses = cross_val_score(clf, X, y, cv=10, scoring='neg_log_loss')\n",
    "\n",
    "print('Model Accuracy:', np.mean(accuracy_scores))"
   ]
  },
  {
   "cell_type": "code",
   "execution_count": null,
   "id": "f7dd62fa",
   "metadata": {},
   "outputs": [],
   "source": [
    "fig, ax = plt.subplots()\n",
    "\n",
    "feature_names = ['_'.join(feature_name.split('_')[3:]) for feature_name in features]\n",
    "\n",
    "coef_ = clf.coef_[0]\n",
    "\n",
    "features_coef_sorted = sorted(zip(feature_names, coef_), key=lambda x:x[-1], reverse=True)\n",
    "\n",
    "features_sorted = [feature for feature, _ in features_coef_sorted]\n",
    "coef_sorted = [coef for _, coef in features_coef_sorted]\n",
    "\n",
    "ax.set_title('Feature importance')\n",
    "\n",
    "ax.barh(features_sorted, coef_sorted);\n",
    "plt.show();"
   ]
  },
  {
   "cell_type": "code",
   "execution_count": null,
   "id": "662dbac2",
   "metadata": {},
   "outputs": [],
   "source": [
    "df_2020 = df.loc[(df['season'] == 2020)].assign(\n",
    "    predicted_winner = lambda x: clf.predict(x[features]),\n",
    "    home_team_win_probability = lambda x: clf.predict_proba(x[features])[:, 1]\n",
    ")\\\n",
    "[['home_team', 'away_team', 'week', 'predicted_winner', 'home_team_win_probability', 'home_team_win']]\n",
    "\n",
    "df_2020['actual_winner'] = df_2020.apply(lambda x: x.home_team if x.home_team_win else x.away_team, axis=1)\n",
    "df_2020['predicted_winner'] = df_2020.apply(lambda x: x.home_team if x.predicted_winner == 1 else x.away_team, axis=1)\n",
    "df_2020['win_probability'] = df_2020.apply(lambda x: x.home_team_win_probability if x.predicted_winner == x.home_team else 1 - x.home_team_win_probability, axis=1)\n",
    "df_2020['correct_prediction'] = (df_2020['predicted_winner'] == df_2020['actual_winner']).astype(int)\n",
    "\n",
    "df_2020 = df_2020.drop(columns=['home_team_win_probability', 'home_team_win'])\n",
    "\n",
    "df_2020.sort_values(by='win_probability', ascending=False).reset_index(drop=True).head(10)"
   ]
  },
  {
   "cell_type": "code",
   "execution_count": null,
   "id": "15fa13c0",
   "metadata": {},
   "outputs": [],
   "source": [
    "correct = df_2020.loc[df_2020['correct_prediction'] == 1].groupby('week')['correct_prediction'].sum()\n",
    "\n",
    "num_games = df_2020.groupby('week')['correct_prediction'].size()\n",
    "\n",
    "results = correct / num_games\n",
    "\n",
    "results"
   ]
  },
  {
   "cell_type": "code",
   "execution_count": null,
   "id": "9b8e6f17",
   "metadata": {},
   "outputs": [],
   "source": [
    "print(df_2020.loc[df_2020['week'] == results.idxmax()].sort_values(by='win_probability', ascending=False))"
   ]
  },
  {
   "cell_type": "code",
   "execution_count": null,
   "id": "d689867d",
   "metadata": {},
   "outputs": [],
   "source": [
    "df_2020.loc[df_2020['week'] > 17]"
   ]
  },
  {
   "cell_type": "code",
   "execution_count": null,
   "id": "f8d501c8",
   "metadata": {},
   "outputs": [],
   "source": [
    "import itertools\n",
    "\n",
    "def ewma(data, window):\n",
    "    \"\"\"\n",
    "    Calculate the most recent value for EWMA given an array of data and a window size\n",
    "    \"\"\"\n",
    "    alpha = 2 / (window + 1.0)\n",
    "    alpha_rev = 1 - alpha\n",
    "    scale = 1 / alpha_rev\n",
    "    n = data.shape[0]\n",
    "    r = np.arange(n)\n",
    "    scale_arr = scale**r\n",
    "    offset = data[0] * alpha_rev**(r+1)\n",
    "    pw0 = alpha * alpha_rev**(n-1)\n",
    "    mult = data * pw0 * scale_arr\n",
    "    cumsums = mult.cumsum()\n",
    "    out = offset + cumsums * scale_arr[::-1]\n",
    "    return out[-1]\n",
    "\n",
    "data_2020 = data.loc[(data['season'] == 2020)]\n",
    "offense = data_2020.loc[(data_2020['posteam'] == 'KC') | (data_2020['posteam'] == 'TB')]\n",
    "defense = data_2020.loc[(data_2020['defteam'] == 'KC') | (data_2020['defteam'] == 'TB')]\n",
    "\n",
    "rushing_offense = offense.loc[offense['rush_attempt'] == 1]\\\n",
    ".groupby(['posteam', 'week'], as_index=False)['epa'].mean().rename(columns={'posteam': 'team'})\n",
    "passing_offense = offense.loc[offense['pass_attempt'] == 1]\\\n",
    ".groupby(['posteam', 'week'], as_index=False)['epa'].mean().rename(columns={'posteam': 'team'})\n",
    "rushing_defense = defense.loc[defense['rush_attempt'] == 1]\\\n",
    ".groupby(['defteam', 'week'], as_index=False)['epa'].mean().rename(columns={'defteam': 'team'})\n",
    "passing_defense = defense.loc[defense['pass_attempt'] == 1]\\\n",
    ".groupby(['defteam', 'week'], as_index=False)['epa'].mean().rename(columns={'defteam': 'team'})\n",
    "\n",
    "super_bowl_X = np.zeros(8)\n",
    "\n",
    "for i, (tm, stat_df) in enumerate(itertools.product(['KC', 'TB'], [rushing_offense, passing_offense, rushing_defense, passing_defense])):\n",
    "    ewma_value = ewma(stat_df.loc[stat_df['team'] == tm]['epa'].values, 20)\n",
    "    super_bowl_X[i] = ewma_value\n",
    "\n",
    "predicted_winner = clf.predict(super_bowl_X.reshape(1, 8))[0]\n",
    "predicted_proba = clf.predict_proba(super_bowl_X.reshape(1, 8))[0]\n",
    "\n",
    "winner = 'KC' if predicted_winner else 'TB'\n",
    "win_prob = predicted_proba[-1] if predicted_winner else predicted_proba[0]\n",
    "\n",
    "print(f'Model predicts {winner} will win the Super Bowl and has a {round(win_prob*100, 2)}% win probability')"
   ]
  }
 ],
 "metadata": {
  "kernelspec": {
   "display_name": "Python 3",
   "language": "python",
   "name": "python3"
  },
  "language_info": {
   "codemirror_mode": {
    "name": "ipython",
    "version": 3
   },
   "file_extension": ".py",
   "mimetype": "text/x-python",
   "name": "python",
   "nbconvert_exporter": "python",
   "pygments_lexer": "ipython3",
   "version": "3.9.6"
  }
 },
 "nbformat": 4,
 "nbformat_minor": 5
}
